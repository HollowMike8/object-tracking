{
  "cells": [
    {
      "cell_type": "markdown",
      "metadata": {
        "id": "view-in-github",
        "colab_type": "text"
      },
      "source": [
        "<a href=\"https://colab.research.google.com/github/HollowMike8/object-tracking-dlib/blob/main/single_object_tracking.ipynb\" target=\"_parent\"><img src=\"https://colab.research.google.com/assets/colab-badge.svg\" alt=\"Open In Colab\"/></a>"
      ]
    },
    {
      "cell_type": "code",
      "execution_count": 1,
      "metadata": {
        "colab": {
          "base_uri": "https://localhost:8080/"
        },
        "id": "cEy9i5RQEx8I",
        "outputId": "1307547a-0221-438b-9a48-6d2584997931"
      },
      "outputs": [
        {
          "output_type": "stream",
          "name": "stdout",
          "text": [
            "usage: git [--version] [--help] [-C <path>] [-c <name>=<value>]\n",
            "           [--exec-path[=<path>]] [--html-path] [--man-path] [--info-path]\n",
            "           [-p | --paginate | --no-pager] [--no-replace-objects] [--bare]\n",
            "           [--git-dir=<path>] [--work-tree=<path>] [--namespace=<name>]\n",
            "           <command> [<args>]\n",
            "\n",
            "These are common Git commands used in various situations:\n",
            "\n",
            "start a working area (see also: git help tutorial)\n",
            "   clone      Clone a repository into a new directory\n",
            "   init       Create an empty Git repository or reinitialize an existing one\n",
            "\n",
            "work on the current change (see also: git help everyday)\n",
            "   add        Add file contents to the index\n",
            "   mv         Move or rename a file, a directory, or a symlink\n",
            "   reset      Reset current HEAD to the specified state\n",
            "   rm         Remove files from the working tree and from the index\n",
            "\n",
            "examine the history and state (see also: git help revisions)\n",
            "   bisect     Use binary search to find the commit that introduced a bug\n",
            "   grep       Print lines matching a pattern\n",
            "   log        Show commit logs\n",
            "   show       Show various types of objects\n",
            "   status     Show the working tree status\n",
            "\n",
            "grow, mark and tweak your common history\n",
            "   branch     List, create, or delete branches\n",
            "   checkout   Switch branches or restore working tree files\n",
            "   commit     Record changes to the repository\n",
            "   diff       Show changes between commits, commit and working tree, etc\n",
            "   merge      Join two or more development histories together\n",
            "   rebase     Reapply commits on top of another base tip\n",
            "   tag        Create, list, delete or verify a tag object signed with GPG\n",
            "\n",
            "collaborate (see also: git help workflows)\n",
            "   fetch      Download objects and refs from another repository\n",
            "   pull       Fetch from and integrate with another repository or a local branch\n",
            "   push       Update remote refs along with associated objects\n",
            "\n",
            "'git help -a' and 'git help -g' list available subcommands and some\n",
            "concept guides. See 'git help <command>' or 'git help <concept>'\n",
            "to read about a specific subcommand or concept.\n",
            "Initialized empty Git repository in /content/.git/\n"
          ]
        }
      ],
      "source": [
        "!git\n",
        "!git init"
      ]
    },
    {
      "cell_type": "code",
      "execution_count": 2,
      "metadata": {
        "colab": {
          "base_uri": "https://localhost:8080/"
        },
        "id": "5o_1Mg_-FDUQ",
        "outputId": "3f466eb5-5270-4c27-a91b-bf8a2dec40e9"
      },
      "outputs": [
        {
          "output_type": "stream",
          "name": "stdout",
          "text": [
            "Cloning into 'object-tracking-dlib'...\n",
            "remote: Enumerating objects: 68, done.\u001b[K\n",
            "remote: Counting objects: 100% (68/68), done.\u001b[K\n",
            "remote: Compressing objects: 100% (61/61), done.\u001b[K\n",
            "remote: Total 68 (delta 36), reused 23 (delta 6), pack-reused 0\u001b[K\n",
            "Unpacking objects: 100% (68/68), done.\n"
          ]
        }
      ],
      "source": [
        "!git clone https://github.com/HollowMike8/object-tracking-dlib.git"
      ]
    },
    {
      "cell_type": "code",
      "execution_count": 3,
      "metadata": {
        "colab": {
          "base_uri": "https://localhost:8080/"
        },
        "id": "1wTAwFsNMMqb",
        "outputId": "ffbfc98d-0dd1-49c4-ba03-1ed138a3f491"
      },
      "outputs": [
        {
          "output_type": "stream",
          "name": "stdout",
          "text": [
            "Requirement already satisfied: imutils in /usr/local/lib/python3.7/dist-packages (0.5.4)\n"
          ]
        }
      ],
      "source": [
        "!pip install --upgrade imutils"
      ]
    },
    {
      "cell_type": "code",
      "execution_count": 4,
      "metadata": {
        "colab": {
          "base_uri": "https://localhost:8080/"
        },
        "id": "4-TPdZjpFJap",
        "outputId": "3fa2f342-2655-4fce-e789-55a141bfa6b4"
      },
      "outputs": [
        {
          "output_type": "stream",
          "name": "stdout",
          "text": [
            "/content/object-tracking-dlib\n"
          ]
        }
      ],
      "source": [
        "%cd object-tracking-dlib/"
      ]
    },
    {
      "cell_type": "code",
      "execution_count": 5,
      "metadata": {
        "id": "caB1F7pQFSN6"
      },
      "outputs": [],
      "source": [
        "import os\n",
        "import cv2\n",
        "import dlib\n",
        "import imutils\n",
        "import datetime\n",
        "import numpy as np\n",
        "from google.colab.patches import cv2_imshow"
      ]
    },
    {
      "cell_type": "code",
      "execution_count": 6,
      "metadata": {
        "id": "SXYQlSrdFgqA"
      },
      "outputs": [],
      "source": [
        "path_dir: str = r\"/content/object-tracking-dlib\"\n",
        "\n",
        "import sys\n",
        "sys.path.insert(0,path_dir)\n",
        "import single_object_config as soc\n",
        "from centroidtracker import CentroidTracker"
      ]
    },
    {
      "cell_type": "code",
      "execution_count": 7,
      "metadata": {
        "id": "gC8pGyoJJqUH"
      },
      "outputs": [],
      "source": [
        "# list of all the classes mobilenet_ssd was trained on\n",
        "CLASSES = [\"background\", \"aeroplane\", \"bicycle\", \"bird\", \"boat\", \"bottle\", \n",
        "           \"bus\", \"car\", \"cat\", \"chair\", \"cow\", \"diningtable\", \"dog\", \"horse\", \n",
        "           \"motorbike\", \"person\", \"pottedplant\", \"sheep\", \"sofa\", \"train\", \n",
        "           \"tvmonitor\"]"
      ]
    },
    {
      "cell_type": "code",
      "execution_count": 8,
      "metadata": {
        "id": "ldKIicqqJ9Eh"
      },
      "outputs": [],
      "source": [
        "# load the mobilenet_ssd caffe model\n",
        "prototxt_path = os.path.join(soc.cnn_caffe_dir , \"MobileNetSSD_deploy.prototxt\")\n",
        "model_path = os.path.join(soc.cnn_caffe_dir , \"MobileNetSSD_deploy.caffemodel\")\n",
        "\n",
        "net = cv2.dnn.readNetFromCaffe(prototxt_path, model_path)"
      ]
    },
    {
      "cell_type": "code",
      "execution_count": 27,
      "metadata": {
        "id": "yOLxxdhZKjRD"
      },
      "outputs": [],
      "source": [
        "# load input video (race.mp4), intitialize the writer, tracker \n",
        "vs = cv2.VideoCapture(os.path.join(soc.input_dir, \"race.mp4\"))\n",
        "\n",
        "tracker = None\n",
        "writer = None\n",
        "\n",
        "# intitialize the CentroidTracker, objects\n",
        "ct = CentroidTracker(maxDisappeared=40, maxDistance=40)\n",
        "objects = None\n",
        "\n",
        "# refresh rate for object detection (object detection every N frames)\n",
        "refresh_rate = 60\n",
        "\n",
        "# initiate totalFrames processed\n",
        "totalFrames = 0"
      ]
    },
    {
      "cell_type": "code",
      "execution_count": null,
      "metadata": {
        "id": "QFL2Qy0xc_l0"
      },
      "outputs": [],
      "source": [
        "start_time = datetime.datetime.now()\n",
        "\n",
        "# initialize list to capture the bounding box coordinates\n",
        "rects = []\n",
        "\n",
        "# loop over thr frames in the input video\n",
        "while True:\n",
        "  (grab, frame) = vs.read()\n",
        "\n",
        "  # to break out of loop after the end of video\n",
        "  if grab == False:\n",
        "    break\n",
        "\n",
        "  # convert from BGR to RGB for dlib tracker\n",
        "  frame = imutils.resize(frame, width=600)\n",
        "  img = cv2.cvtColor(frame, cv2.COLOR_BGR2RGB)\n",
        "\n",
        "  # writing the video\n",
        "  if writer is None:\n",
        "    fourcc = cv2.VideoWriter_fourcc(*\"MJPG\")\n",
        "    writer = cv2.VideoWriter(os.path.join(soc.output_dir, \"race_dlib.avi\"), \n",
        "                             fourcc, 30, (frame.shape[1], frame.shape[0]), True)\n",
        "\n",
        "  # object detection (for every N frames)\n",
        "  if totalFrames % refresh_rate == 0:\n",
        "    (h, w) = frame.shape[:2]\n",
        "    blob = cv2.dnn.blobFromImage(frame, 0.007843, (w, h), 127.5)\n",
        "    net.setInput(blob)\n",
        "    detections = net.forward()\n",
        "\n",
        "    # find the index of the detection with the largest confidence (single obj)\n",
        "    if objects == None and len(detections) > 0:\n",
        "      i = np.argmax(detections[0, 0, :, 2])\n",
        "      conf = detections[0, 0, i, 2]\n",
        "      label = CLASSES[int(detections[0, 0, i, 1])]\n",
        "\n",
        "    # find the index of the previouly exiting single obj detection\n",
        "    else:\n",
        "      for i in range(0, detections.shape[2]):\n",
        "        conf = detections[0, 0, i, 2]\n",
        "        label = CLASSES[int(detections[0, 0, i, 1])]\n",
        "        # print(\"Label of progressive detection:%s\"% label)\n",
        "\n",
        "        temp = detections[0, 0, i, 3:7]*np.array([w, h, w, h])\n",
        "        (startX, startY, endX, endY) = temp.astype(\"int\")\n",
        "        # print(\"Rect of progressive detection:%s\"% temp)\n",
        "\n",
        "        if label == soc.label:\n",
        "          rects = []\n",
        "          objects_old = objects.copy()\n",
        "          rects.append((startX, startY, endX, endY))\n",
        "          objects = ct.update(rects)\n",
        "\n",
        "          # check the new rect is already detected/tracked single obj\n",
        "          if (objects_old[0] == objects[0]).all():\n",
        "            continue\n",
        "          else:\n",
        "            break\n",
        "\n",
        "        elif label == 'background':\n",
        "          label = soc.label\n",
        "\n",
        "    if conf > soc.thres_confidence and label == soc.label:\n",
        "      # compute the bounding box coordinates\n",
        "      box = detections[0, 0, i, 3:7]*np.array([w, h, w, h])\n",
        "      (startX, startY, endX, endY) = box.astype(\"int\")\n",
        "\n",
        "      # construct the dlib correlation tracker using bouding box coordinates\n",
        "      tracker = dlib.correlation_tracker()\n",
        "      rect = dlib.rectangle(startX, startY, endX, endY)\n",
        "      tracker.start_track(img, rect)\n",
        "\n",
        "      # draw the bouding box rectangle and label in the frame\n",
        "      cv2.rectangle(frame, (startX, startY), (endX, endY), (0, 255, 0), 2)\n",
        "      cv2.putText(frame, label, (startX, startY-15), cv2.FONT_HERSHEY_SIMPLEX, \n",
        "                  0.45, (0, 255, 0), 2)\n",
        "      \n",
        "      # empty the rect list and update the centroid/centroids\n",
        "      rects = []\n",
        "      rects.append((startX, startY, endX, endY))\n",
        "      objects = ct.update(rects)\n",
        "  \n",
        "  # object tracking     \n",
        "  else:\n",
        "    tracker.update(img)\n",
        "    pos = tracker.get_position()\n",
        "\n",
        "    # unpack the position object\n",
        "    startX = int(pos.left())\n",
        "    startY = int(pos.top())\n",
        "    endX = int(pos.right())\n",
        "    endY = int(pos.bottom())\n",
        "\n",
        "    # draw the bouding box rectangle and label in the frame\n",
        "    cv2.rectangle(frame, (startX, startY), (endX, endY), (0, 255, 0), 2)\n",
        "    cv2.putText(frame, label, (startX, startY-15), cv2.FONT_HERSHEY_SIMPLEX, \n",
        "                0.45, (0, 255, 0), 2)\n",
        "    \n",
        "    # empty the rect list and update the centroid/centroids\n",
        "    rects = []\n",
        "    rects.append((startX, startY, endX, endY))\n",
        "    objects = ct.update(rects)\n",
        "\n",
        "  # write the sketched frame     \n",
        "  if writer is not None:\n",
        "    writer.write(frame)\n",
        "\n",
        "  # show the output frame\n",
        "  cv2_imshow(frame)\n",
        "  key = cv2.waitKey(1) & 0xFF\n",
        "\n",
        "  # if the `q` key was pressed, break from the loop\n",
        "  if key == ord(\"q\"):\n",
        "    break\n",
        "\n",
        "  # update the totalFrames processed\n",
        "  totalFrames += 1\n",
        "\n",
        "end_time = datetime.datetime.now()\n",
        "elapsed_time = (end_time-start_time).total_seconds()\n",
        "print(\"Elapsed time: {:.2f}\".format(elapsed_time))\n",
        "print(\"Approx. FPS: {:.2f}\".format(totalFrames/elapsed_time))\n",
        "\n",
        "# check to see if we need to release the video writer pointer\n",
        "if writer is not None:\n",
        "  writer.release()\n",
        "\n",
        "# do a bit of cleanup\n",
        "cv2.destroyAllWindows()\n",
        "vs.release()"
      ]
    },
    {
      "cell_type": "markdown",
      "source": [
        "# **Notes**\n",
        "1. Object detection is performed once in every 60 frames\n",
        "2. mobilenet_ssd fails in some detection steps due to occlusion\n",
        "3. Unsuccessful detection steps are skipped and tracking is continued as before\n",
        "4. Next steps: Try better detection algorithm that handles occlusions "
      ],
      "metadata": {
        "id": "5hanlag-dOzz"
      }
    }
  ],
  "metadata": {
    "accelerator": "GPU",
    "colab": {
      "collapsed_sections": [],
      "name": "single_object_tracking.ipynb",
      "provenance": [],
      "authorship_tag": "ABX9TyPgHEZqqrfSpFjIbQ6a9rEv",
      "include_colab_link": true
    },
    "kernelspec": {
      "display_name": "Python 3",
      "name": "python3"
    },
    "language_info": {
      "name": "python"
    }
  },
  "nbformat": 4,
  "nbformat_minor": 0
}